{
 "cells": [
  {
   "cell_type": "code",
   "execution_count": 6,
   "metadata": {},
   "outputs": [
    {
     "name": "stdout",
     "output_type": "stream",
     "text": [
      "Number of  unmapped reads:  17765\n",
      "Total number of reads  2921629\n",
      "Number of reads with mapping quality 0:  126628\n",
      "Average mapping quality for all the reads:  55.91379158681681\n",
      "Average mapping quality if reads with 0 mapp quality are filtered out:  58.446975510921106\n"
     ]
    }
   ],
   "source": [
    "import pysam\n",
    "\n",
    "samfile = pysam.AlignmentFile(\"/sbgenomics/project-files/merged-tumor.bam\", \"rb\")\n",
    "\n",
    "unmapped = 0\n",
    "num_reads_total = 0\n",
    "quality_all = 0\n",
    "num_quality_zero = 0\n",
    "avg_quality_all = 0\n",
    "avg_quality_zero = 0\n",
    "\n",
    "#for read in samfile.fetch():\n",
    "for read in samfile:\n",
    "    num_reads_total += 1\n",
    "    quality_all += read.mapping_quality\n",
    "    \n",
    "    if(read.flag & 4):\n",
    "        unmapped += 1\n",
    "    if read.mapping_quality == 0:\n",
    "        num_quality_zero += 1\n",
    "        \n",
    "samfile.close()\n",
    "\n",
    "avg_quality_all = quality_all/num_reads_total\n",
    "avg_quality_zero = quality_all/(num_reads_total-num_quality_zero)\n",
    "\n",
    "print('Number of  unmapped reads: ', unmapped)\n",
    "print('Total number of reads ', num_reads_total)\n",
    "print('Number of reads with mapping quality 0: ', num_quality_zero)\n",
    "print('Average mapping quality for all the reads: ', avg_quality_all)\n",
    "print('Average mapping quality if reads with 0 mapp quality are filtered out: ', avg_quality_zero)\n"
   ]
  },
  {
   "cell_type": "code",
   "execution_count": null,
   "metadata": {},
   "outputs": [],
   "source": []
  }
 ],
 "metadata": {
  "kernelspec": {
   "display_name": "Python 3",
   "language": "python",
   "name": "python3"
  },
  "language_info": {
   "codemirror_mode": {
    "name": "ipython",
    "version": 3
   },
   "file_extension": ".py",
   "mimetype": "text/x-python",
   "name": "python",
   "nbconvert_exporter": "python",
   "pygments_lexer": "ipython3",
   "version": "3.6.3"
  }
 },
 "nbformat": 4,
 "nbformat_minor": 2
}
